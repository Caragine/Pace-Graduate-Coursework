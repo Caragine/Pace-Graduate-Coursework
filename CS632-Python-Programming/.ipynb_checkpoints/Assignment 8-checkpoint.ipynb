{
 "cells": [
  {
   "cell_type": "code",
   "execution_count": 1,
   "metadata": {},
   "outputs": [],
   "source": [
    "import math\n",
    "import time"
   ]
  },
  {
   "cell_type": "code",
   "execution_count": 2,
   "metadata": {},
   "outputs": [],
   "source": [
    "def VieteSeries():\n",
    "    firstTerm = math.sqrt(2)\n",
    "    answer = firstTerm / 2\n",
    "    start = time.time()\n",
    "\n",
    "    for i in range(1, 1000000):\n",
    "        firstTerm = math.sqrt(2 + firstTerm)\n",
    "        answer = answer * (firstTerm / 2)\n",
    "        VietePi = 2/answer\n",
    "        VieteTime = time.time() - start\n",
    "\n",
    "    return VietePi, VieteTime"
   ]
  },
  {
   "cell_type": "code",
   "execution_count": 3,
   "metadata": {},
   "outputs": [],
   "source": [
    "def WallisSeries():\n",
    "    num = 2\n",
    "    den = 1\n",
    "    start = time.time()\n",
    "    WallisPi = (num/den)\n",
    "\n",
    "    for i in range(1, 1000000):\n",
    "        WallisPi *= (num/den)\n",
    "        if i%2 == 1:\n",
    "            den += 2\n",
    "        else:\n",
    "            num += 2\n",
    "        WallisTime = time.time() - start\n",
    "\n",
    "    return WallisPi, WallisTime"
   ]
  },
  {
   "cell_type": "code",
   "execution_count": 4,
   "metadata": {},
   "outputs": [],
   "source": [
    "def LeibnizSeries():\n",
    "    num = 4\n",
    "    den = 1\n",
    "    start = time.time()\n",
    "    LeibnizPi = (num/den)\n",
    "\n",
    "    for i in range(1, 1000000):\n",
    "        if i%2 == 1:\n",
    "            den += 2\n",
    "            LeibnizPi -= (num/den)\n",
    "        else:\n",
    "            den += 2\n",
    "            LeibnizPi += (num/den)\n",
    "        LeibnizTime = time.time() - start\n",
    "\n",
    "    return LeibnizPi, LeibnizTime"
   ]
  },
  {
   "cell_type": "code",
   "execution_count": 5,
   "metadata": {},
   "outputs": [],
   "source": [
    "def NilakanthaSeries():\n",
    "    num = 4\n",
    "    den1 = 0\n",
    "    den2 = 1\n",
    "    den3 = 2\n",
    "    start = time.time()\n",
    "    NilakanthaPi = 3\n",
    "\n",
    "    for i in range(1, 1000000):\n",
    "        if i%2 ==1:\n",
    "            den1 += 2\n",
    "            den2 += 2\n",
    "            den3 += 2\n",
    "            NilakanthaPi += (4/(den1*den2*den3))\n",
    "        else:\n",
    "            den1 += 2\n",
    "            den2 += 2\n",
    "            den3 += 2\n",
    "            NilakanthaPi -= (4/(den1*den2*den3))\n",
    "        NilakanthaTime = time.time() - start\n",
    "\n",
    "    return NilakanthaPi, NilakanthaTime"
   ]
  },
  {
   "cell_type": "code",
   "execution_count": 6,
   "metadata": {},
   "outputs": [
    {
     "name": "stdout",
     "output_type": "stream",
     "text": [
      "Series | Iterations | Calculation Time | Pi Value\n",
      "Viete | 1000000 | 0.4059145450592041 | 3.141592653589794\n",
      "Wallis | 1000000 | 0.27698564529418945 | 3.1415942243859956\n",
      "Leibniz | 1000000 | 0.26160669326782227 | 3.1415916535897743\n",
      "Nilakantha | 1000000 | 0.5575344562530518 | 3.141592653589787\n"
     ]
    }
   ],
   "source": [
    "print(\"Series | Iterations | Calculation Time | Pi Value\")\n",
    "print(\"Viete\", \"|\", 1000000, \"|\", VieteSeries()[1], \"|\", VieteSeries()[0])\n",
    "print(\"Wallis\", \"|\", 1000000, \"|\", WallisSeries()[1], \"|\", WallisSeries()[0])\n",
    "print(\"Leibniz\", \"|\", 1000000, \"|\", LeibnizSeries()[1], \"|\", LeibnizSeries()[0])\n",
    "print(\"Nilakantha\", \"|\", 1000000, \"|\", NilakanthaSeries()[1], \"|\", NilakanthaSeries()[0])"
   ]
  },
  {
   "cell_type": "code",
   "execution_count": null,
   "metadata": {},
   "outputs": [],
   "source": []
  }
 ],
 "metadata": {
  "kernelspec": {
   "display_name": "Python 3",
   "language": "python",
   "name": "python3"
  },
  "language_info": {
   "codemirror_mode": {
    "name": "ipython",
    "version": 3
   },
   "file_extension": ".py",
   "mimetype": "text/x-python",
   "name": "python",
   "nbconvert_exporter": "python",
   "pygments_lexer": "ipython3",
   "version": "3.8.5"
  }
 },
 "nbformat": 4,
 "nbformat_minor": 4
}

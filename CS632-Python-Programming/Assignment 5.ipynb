{
 "cells": [
  {
   "cell_type": "code",
   "execution_count": 141,
   "metadata": {},
   "outputs": [],
   "source": [
    "text = ('Line 1: this is sample text with several words '\n",
    "        'Line 2: this is more sample text with some different words '\n",
    "        'Line 3: this has even more sample text with even more different words')"
   ]
  },
  {
   "cell_type": "code",
   "execution_count": 142,
   "metadata": {},
   "outputs": [],
   "source": [
    "import collections\n",
    "import nltk\n",
    "from nltk import word_tokenize"
   ]
  },
  {
   "cell_type": "code",
   "execution_count": 143,
   "metadata": {},
   "outputs": [],
   "source": [
    "nosymbols = text.replace(\"\\'\", \"\")\n",
    "nosymbols = text.replace(\":\", \"\")"
   ]
  },
  {
   "cell_type": "code",
   "execution_count": 144,
   "metadata": {},
   "outputs": [
    {
     "name": "stdout",
     "output_type": "stream",
     "text": [
      "Line 1 this is sample text with several words Line 2 this is more sample text with some different words Line 3 this has even more sample text with even more different words\n"
     ]
    }
   ],
   "source": [
    "print(nosymbols)"
   ]
  },
  {
   "cell_type": "code",
   "execution_count": 156,
   "metadata": {},
   "outputs": [],
   "source": [
    "newtext = word_tokenize(nosymbols)"
   ]
  },
  {
   "cell_type": "code",
   "execution_count": 157,
   "metadata": {},
   "outputs": [
    {
     "name": "stdout",
     "output_type": "stream",
     "text": [
      "['Line', '1', 'this', 'is', 'sample', 'text', 'with', 'several', 'words', 'Line', '2', 'this', 'is', 'more', 'sample', 'text', 'with', 'some', 'different', 'words', 'Line', '3', 'this', 'has', 'even', 'more', 'sample', 'text', 'with', 'even', 'more', 'different', 'words']\n"
     ]
    }
   ],
   "source": [
    "print(newtext)"
   ]
  },
  {
   "cell_type": "code",
   "execution_count": 158,
   "metadata": {},
   "outputs": [
    {
     "name": "stdout",
     "output_type": "stream",
     "text": [
      "WORD COUNT\n",
      "Line   3\n",
      "1   1\n",
      "this   3\n",
      "is   2\n",
      "sample   3\n",
      "text   3\n",
      "with   3\n",
      "several   1\n",
      "words   3\n",
      "2   1\n",
      "more   3\n",
      "some   1\n",
      "different   2\n",
      "3   1\n",
      "has   1\n",
      "even   2\n"
     ]
    }
   ],
   "source": [
    "print(\"WORD COUNT\")\n",
    "for word in dict(collections.Counter(newtext)):\n",
    "    print(word + \"  \", collections.Counter(newtext)[word])"
   ]
  },
  {
   "cell_type": "code",
   "execution_count": 159,
   "metadata": {},
   "outputs": [],
   "source": [
    "count = dict()"
   ]
  },
  {
   "cell_type": "code",
   "execution_count": 160,
   "metadata": {},
   "outputs": [],
   "source": [
    "for word in newtext:\n",
    "    if word in count:\n",
    "        count[word] = count[word] + 1\n",
    "    else:\n",
    "        count[word] = 1"
   ]
  },
  {
   "cell_type": "code",
   "execution_count": 162,
   "metadata": {},
   "outputs": [
    {
     "name": "stdout",
     "output_type": "stream",
     "text": [
      "WORD  COUNT\n",
      "Line  3\n",
      "1  1\n",
      "this  3\n",
      "is  2\n",
      "sample  3\n",
      "text  3\n",
      "with  3\n",
      "several  1\n",
      "words  3\n",
      "2  1\n",
      "more  3\n",
      "some  1\n",
      "different  2\n",
      "3  1\n",
      "has  1\n",
      "even  2\n"
     ]
    }
   ],
   "source": [
    "print(\"WORD  COUNT\")\n",
    "for k, v in count.items():\n",
    "    print(k + \" \", v)"
   ]
  },
  {
   "cell_type": "code",
   "execution_count": null,
   "metadata": {},
   "outputs": [],
   "source": []
  },
  {
   "cell_type": "code",
   "execution_count": null,
   "metadata": {},
   "outputs": [],
   "source": []
  },
  {
   "cell_type": "code",
   "execution_count": null,
   "metadata": {},
   "outputs": [],
   "source": []
  }
 ],
 "metadata": {
  "kernelspec": {
   "display_name": "Python 3",
   "language": "python",
   "name": "python3"
  },
  "language_info": {
   "codemirror_mode": {
    "name": "ipython",
    "version": 3
   },
   "file_extension": ".py",
   "mimetype": "text/x-python",
   "name": "python",
   "nbconvert_exporter": "python",
   "pygments_lexer": "ipython3",
   "version": "3.8.5"
  }
 },
 "nbformat": 4,
 "nbformat_minor": 4
}

{
 "cells": [
  {
   "cell_type": "code",
   "execution_count": null,
   "metadata": {},
   "outputs": [],
   "source": [
    "#NOTES\n",
    "#Immutable arguments are effectively passed by value (string, integer, tuple) - while they are technically \"pass by reference\",\n",
    "#Since you can't change them in-place inside the function, it looks as if it is passed by value\n",
    "\n",
    "#Mutable arguments are effectively passed by reference (lists, dictionaries) - Any in-place change inside function will affect\n",
    "#original object\n",
    "\n",
    "#If the underlying object is mutable, then modifications to the object will persist and id stays same\n",
    "#If the underlying object is immutable, then changes to the variable do not persist and id changes\n",
    "\n"
   ]
  },
  {
   "cell_type": "code",
   "execution_count": 33,
   "metadata": {},
   "outputs": [
    {
     "name": "stdout",
     "output_type": "stream",
     "text": [
      "140708825016512\n",
      "140708825016512\n",
      "140708825016512\n",
      "140708825016512\n"
     ]
    }
   ],
   "source": [
    "#Value of integer 14 is stored in a memory address. m = 14 and r = 14 creates a variable that points to the object where 14 is\n",
    "#ID NEVER CHANGES (IMMUTABLE)\n",
    "\n",
    "m = 14\n",
    "r = 14\n",
    "print (id(m))\n",
    "print (id(r))\n",
    "m = r\n",
    "print (id(m))\n",
    "print (id(r))\n"
   ]
  },
  {
   "cell_type": "code",
   "execution_count": 58,
   "metadata": {},
   "outputs": [
    {
     "name": "stdout",
     "output_type": "stream",
     "text": [
      "['A', 'B', 'C', 'D']\n",
      "2107969935232\n",
      "['A', 'B', 'C', 'D', 'E']\n",
      "2107969935232\n"
     ]
    }
   ],
   "source": [
    "#Example of PASS BY OBJECT REFERENCE for MUTABLE OBJECT\n",
    "#Takes list located in variable X and appends it, *ID STAYS SAME, BUT OBJECT CHANGES*\n",
    "\n",
    "def append_one(lst):\n",
    "    lst.append('E')\n",
    "    \n",
    "x = ['A','B','C','D']\n",
    "\n",
    "print (x)\n",
    "print (id(x)) #Print id of x before append function\n",
    "\n",
    "append_one(x)\n",
    "\n",
    "print (x) \n",
    "print (id(x)) #Print id of x after append function"
   ]
  },
  {
   "cell_type": "code",
   "execution_count": 57,
   "metadata": {},
   "outputs": [
    {
     "name": "stdout",
     "output_type": "stream",
     "text": [
      "140708825016864\n",
      "140708825017344\n",
      "25\n",
      "140708825016864\n",
      "40\n",
      "140708825017344\n",
      "40\n",
      "140708825017344\n"
     ]
    }
   ],
   "source": [
    "#Example of PASS BY OBJECT REFERENCE for IMMUTABLE OBJECT\n",
    "#Assigns reference to location where 25 is located, then upon adding 15 to it, ID DOES NOT CHANGE BECAUSE INTEGERS IMMUTABLE\n",
    "\n",
    "print(id(25)) #showing id of integer 25\n",
    "print(id(40)) #showing id of integer 40\n",
    "\n",
    "a = 25 #assigning reference to variable a\n",
    "print (a)\n",
    "print(id(a)) #NOTE: id of a is same as id of 25\n",
    "\n",
    "a = a + 15\n",
    "b = a\n",
    "\n",
    "print(a)\n",
    "print(id(a))\n",
    "print(b)\n",
    "print(id(b))\n"
   ]
  },
  {
   "cell_type": "code",
   "execution_count": 55,
   "metadata": {},
   "outputs": [
    {
     "name": "stdout",
     "output_type": "stream",
     "text": [
      "[1, 2, 3, 4, 5]\n",
      "[1, 2, 3, 4, 5]\n",
      "2107969714368\n",
      "2107970000064\n",
      "[1, 2, 3, 4, 5, 6]\n",
      "[1, 2, 3, 4, 5]\n",
      "2107969714368\n",
      "2107970000064\n"
     ]
    }
   ],
   "source": [
    "#Example of mutable objects.. List object is identical but ids are different\n",
    "#NOTE: IDS DO NOT CHANGES UPON APPENDING OBJECT\n",
    "\n",
    "x = [1,2,3,4,5]\n",
    "y = [1,2,3,4,5]\n",
    "print(x)\n",
    "print(y)\n",
    "print(id(x))\n",
    "print(id(y))\n",
    "x.append(6)\n",
    "print(x)\n",
    "print(y)\n",
    "print(id(x))\n",
    "print(id(y))"
   ]
  },
  {
   "cell_type": "code",
   "execution_count": 56,
   "metadata": {},
   "outputs": [
    {
     "name": "stdout",
     "output_type": "stream",
     "text": [
      "[1, 2, 3, 4, 5]\n",
      "2107969717056\n",
      "[1, 2, 3, 4, 5]\n",
      "2107969717056\n",
      "[1, 2, 3, 4, 5, 6]\n",
      "[1, 2, 3, 4, 5, 6]\n",
      "2107969717056\n",
      "2107969717056\n"
     ]
    }
   ],
   "source": [
    "#Example of mutable objects.. y is a reference to x so ids are same\n",
    "#NOTE: IDS DO NOT CHANGES UPON APPENDING OBJECT\n",
    "\n",
    "x = [1,2,3,4,5]\n",
    "y = x\n",
    "print(x)\n",
    "print(id(x))\n",
    "print(y)\n",
    "print(id(y))\n",
    "x.append(6)\n",
    "print(x)\n",
    "print(y)\n",
    "print(id(x))\n",
    "print(id(y))"
   ]
  },
  {
   "cell_type": "code",
   "execution_count": null,
   "metadata": {},
   "outputs": [],
   "source": []
  },
  {
   "cell_type": "code",
   "execution_count": null,
   "metadata": {},
   "outputs": [],
   "source": []
  },
  {
   "cell_type": "code",
   "execution_count": null,
   "metadata": {},
   "outputs": [],
   "source": []
  },
  {
   "cell_type": "code",
   "execution_count": null,
   "metadata": {},
   "outputs": [],
   "source": []
  }
 ],
 "metadata": {
  "kernelspec": {
   "display_name": "Python 3",
   "language": "python",
   "name": "python3"
  },
  "language_info": {
   "codemirror_mode": {
    "name": "ipython",
    "version": 3
   },
   "file_extension": ".py",
   "mimetype": "text/x-python",
   "name": "python",
   "nbconvert_exporter": "python",
   "pygments_lexer": "ipython3",
   "version": "3.8.5"
  }
 },
 "nbformat": 4,
 "nbformat_minor": 4
}

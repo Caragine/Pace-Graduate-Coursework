{
 "cells": [
  {
   "cell_type": "code",
   "execution_count": 29,
   "metadata": {},
   "outputs": [],
   "source": [
    "import time\n",
    "import datetime\n",
    "from datetime import date\n",
    "from datetime import time\n",
    "from datetime import datetime\n",
    "from datetime import timedelta"
   ]
  },
  {
   "cell_type": "code",
   "execution_count": 62,
   "metadata": {},
   "outputs": [],
   "source": [
    "startstring = \"01-01-2001\""
   ]
  },
  {
   "cell_type": "code",
   "execution_count": 63,
   "metadata": {},
   "outputs": [],
   "source": [
    "startobject = datetime.strptime(startstring, \"%m-%d-%Y\")"
   ]
  },
  {
   "cell_type": "code",
   "execution_count": 64,
   "metadata": {},
   "outputs": [
    {
     "name": "stdout",
     "output_type": "stream",
     "text": [
      "01-01-2001\n",
      "<class 'str'>\n",
      "----\n",
      "2001-01-01 00:00:00\n",
      "<class 'datetime.datetime'>\n"
     ]
    }
   ],
   "source": [
    "print(startstring)\n",
    "print(type(startstring))\n",
    "print(\"----\")\n",
    "print(startobject)\n",
    "print(type(startobject))"
   ]
  },
  {
   "cell_type": "code",
   "execution_count": 65,
   "metadata": {},
   "outputs": [],
   "source": [
    "def isPalindrome(string):\n",
    "    if (string[0] == string[7] and string[1] == string[6] and\n",
    "    string[2] == string[5] and string[3] == string[4]):\n",
    "        return True\n",
    "    else: return False"
   ]
  },
  {
   "cell_type": "code",
   "execution_count": 66,
   "metadata": {},
   "outputs": [],
   "source": [
    "d = startobject.strftime(\"%m%d%Y\")"
   ]
  },
  {
   "cell_type": "code",
   "execution_count": 67,
   "metadata": {},
   "outputs": [
    {
     "name": "stdout",
     "output_type": "stream",
     "text": [
      "01012001\n",
      "<class 'str'>\n"
     ]
    }
   ],
   "source": [
    "print(d)\n",
    "print(type(d))"
   ]
  },
  {
   "cell_type": "code",
   "execution_count": 68,
   "metadata": {},
   "outputs": [
    {
     "name": "stdout",
     "output_type": "stream",
     "text": [
      "<class 'datetime.datetime'>\n"
     ]
    }
   ],
   "source": [
    "print(type(startobject))"
   ]
  },
  {
   "cell_type": "code",
   "execution_count": 60,
   "metadata": {},
   "outputs": [
    {
     "name": "stdout",
     "output_type": "stream",
     "text": [
      "[]\n"
     ]
    }
   ],
   "source": [
    "palindromelist = []\n",
    "print(palindromelist)"
   ]
  },
  {
   "cell_type": "code",
   "execution_count": 69,
   "metadata": {},
   "outputs": [],
   "source": [
    "while int(startobject.strftime(\"%Y\")) <= 3000:\n",
    "    if isPalindrome(startobject.strftime(\"%m%d%Y\")):\n",
    "        palindromelist.append(startobject)\n",
    "    startobject += timedelta(days=1)"
   ]
  },
  {
   "cell_type": "code",
   "execution_count": 71,
   "metadata": {},
   "outputs": [
    {
     "name": "stdout",
     "output_type": "stream",
     "text": [
      "[datetime.datetime(2001, 10, 2, 0, 0), datetime.datetime(2010, 1, 2, 0, 0), datetime.datetime(2011, 11, 2, 0, 0), datetime.datetime(2020, 2, 2, 0, 0), datetime.datetime(2021, 12, 2, 0, 0), datetime.datetime(2030, 3, 2, 0, 0), datetime.datetime(2040, 4, 2, 0, 0), datetime.datetime(2050, 5, 2, 0, 0), datetime.datetime(2060, 6, 2, 0, 0), datetime.datetime(2070, 7, 2, 0, 0), datetime.datetime(2080, 8, 2, 0, 0), datetime.datetime(2090, 9, 2, 0, 0), datetime.datetime(2101, 10, 12, 0, 0), datetime.datetime(2110, 1, 12, 0, 0), datetime.datetime(2111, 11, 12, 0, 0), datetime.datetime(2120, 2, 12, 0, 0), datetime.datetime(2121, 12, 12, 0, 0), datetime.datetime(2130, 3, 12, 0, 0), datetime.datetime(2140, 4, 12, 0, 0), datetime.datetime(2150, 5, 12, 0, 0), datetime.datetime(2160, 6, 12, 0, 0), datetime.datetime(2170, 7, 12, 0, 0), datetime.datetime(2180, 8, 12, 0, 0), datetime.datetime(2190, 9, 12, 0, 0), datetime.datetime(2201, 10, 22, 0, 0), datetime.datetime(2210, 1, 22, 0, 0), datetime.datetime(2211, 11, 22, 0, 0), datetime.datetime(2220, 2, 22, 0, 0), datetime.datetime(2221, 12, 22, 0, 0), datetime.datetime(2230, 3, 22, 0, 0), datetime.datetime(2240, 4, 22, 0, 0), datetime.datetime(2250, 5, 22, 0, 0), datetime.datetime(2260, 6, 22, 0, 0), datetime.datetime(2270, 7, 22, 0, 0), datetime.datetime(2280, 8, 22, 0, 0), datetime.datetime(2290, 9, 22, 0, 0)]\n"
     ]
    }
   ],
   "source": [
    "print(palindromelist)"
   ]
  },
  {
   "cell_type": "code",
   "execution_count": 79,
   "metadata": {},
   "outputs": [
    {
     "name": "stdout",
     "output_type": "stream",
     "text": [
      "PALINDROME DATES BETWEEN 01-01-2001 AND 12-31-3000 in MM-DD-YYYY\n",
      "10-02-2001\n",
      "01-02-2010\n",
      "11-02-2011\n",
      "02-02-2020\n",
      "12-02-2021\n",
      "03-02-2030\n",
      "04-02-2040\n",
      "05-02-2050\n",
      "06-02-2060\n",
      "07-02-2070\n",
      "08-02-2080\n",
      "09-02-2090\n",
      "10-12-2101\n",
      "01-12-2110\n",
      "11-12-2111\n",
      "02-12-2120\n",
      "12-12-2121\n",
      "03-12-2130\n",
      "04-12-2140\n",
      "05-12-2150\n",
      "06-12-2160\n",
      "07-12-2170\n",
      "08-12-2180\n",
      "09-12-2190\n",
      "10-22-2201\n",
      "01-22-2210\n",
      "11-22-2211\n",
      "02-22-2220\n",
      "12-22-2221\n",
      "03-22-2230\n",
      "04-22-2240\n",
      "05-22-2250\n",
      "06-22-2260\n",
      "07-22-2270\n",
      "08-22-2280\n",
      "09-22-2290\n"
     ]
    }
   ],
   "source": [
    "print(\"PALINDROME DATES BETWEEN 01-01-2001 AND 12-31-3000 in MM-DD-YYYY\")\n",
    "for date in palindromelist:\n",
    "    print(date.strftime(\"%m-%d-%Y\"))"
   ]
  },
  {
   "cell_type": "code",
   "execution_count": 81,
   "metadata": {},
   "outputs": [
    {
     "name": "stdout",
     "output_type": "stream",
     "text": [
      "36\n"
     ]
    }
   ],
   "source": [
    "print(len(palindromelist))"
   ]
  },
  {
   "cell_type": "code",
   "execution_count": null,
   "metadata": {},
   "outputs": [],
   "source": []
  },
  {
   "cell_type": "code",
   "execution_count": null,
   "metadata": {},
   "outputs": [],
   "source": []
  },
  {
   "cell_type": "code",
   "execution_count": null,
   "metadata": {},
   "outputs": [],
   "source": []
  },
  {
   "cell_type": "code",
   "execution_count": null,
   "metadata": {},
   "outputs": [],
   "source": []
  },
  {
   "cell_type": "code",
   "execution_count": null,
   "metadata": {},
   "outputs": [],
   "source": []
  }
 ],
 "metadata": {
  "kernelspec": {
   "display_name": "Python 3",
   "language": "python",
   "name": "python3"
  },
  "language_info": {
   "codemirror_mode": {
    "name": "ipython",
    "version": 3
   },
   "file_extension": ".py",
   "mimetype": "text/x-python",
   "name": "python",
   "nbconvert_exporter": "python",
   "pygments_lexer": "ipython3",
   "version": "3.8.5"
  }
 },
 "nbformat": 4,
 "nbformat_minor": 4
}
